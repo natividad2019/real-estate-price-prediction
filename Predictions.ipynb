{
 "cells": [
  {
   "cell_type": "code",
   "execution_count": 3,
   "id": "b13d0e82-4cc7-4dde-a819-9c686c781ac8",
   "metadata": {},
   "outputs": [],
   "source": [
    "# Importing the pandas library and giving it a short name 'pd'\n",
    "# We use pandas to work with tables of data (like Excel spreadsheets)\n",
    "import pandas as pd\n",
    "\n",
    "# Importing the numpy library and giving it a short name 'np'\n",
    "# We use numpy to work with numbers and math (especially with big lists of numbers)\n",
    "import numpy as np \n",
    "\n",
    "# Importing the pyplot part of matplotlib and giving it a short name 'plt'\n",
    "# This helps us draw graphs and charts\n",
    "from matplotlib import pyplot as plt \n",
    "\n",
    "# This line tells Jupyter Notebook to show the graphs right below the code\n",
    "# (You only need this if you're using Jupyter Notebook)\n",
    "%matplotlib inline\n",
    "\n",
    "# Importing the main matplotlib library so we can change how our charts look\n",
    "import matplotlib\n",
    "\n",
    "# Setting the default size of the graphs to be wider and taller\n",
    "# (This makes the graphs easier to see)\n",
    "matplotlib.rcParams[\"figure.figsize\"] = (20, 10)\n"
   ]
  },
  {
   "cell_type": "code",
   "execution_count": 4,
   "id": "eb500bde-2c34-4e0f-b007-d75d7ceb52f5",
   "metadata": {},
   "outputs": [
    {
     "data": {
      "text/html": [
       "<div>\n",
       "<style scoped>\n",
       "    .dataframe tbody tr th:only-of-type {\n",
       "        vertical-align: middle;\n",
       "    }\n",
       "\n",
       "    .dataframe tbody tr th {\n",
       "        vertical-align: top;\n",
       "    }\n",
       "\n",
       "    .dataframe thead th {\n",
       "        text-align: right;\n",
       "    }\n",
       "</style>\n",
       "<table border=\"1\" class=\"dataframe\">\n",
       "  <thead>\n",
       "    <tr style=\"text-align: right;\">\n",
       "      <th></th>\n",
       "      <th>area_type</th>\n",
       "      <th>availability</th>\n",
       "      <th>location</th>\n",
       "      <th>size</th>\n",
       "      <th>society</th>\n",
       "      <th>total_sqft</th>\n",
       "      <th>bath</th>\n",
       "      <th>balcony</th>\n",
       "      <th>price</th>\n",
       "    </tr>\n",
       "  </thead>\n",
       "  <tbody>\n",
       "    <tr>\n",
       "      <th>0</th>\n",
       "      <td>Super built-up  Area</td>\n",
       "      <td>19-Dec</td>\n",
       "      <td>Electronic City Phase II</td>\n",
       "      <td>2 BHK</td>\n",
       "      <td>Coomee</td>\n",
       "      <td>1056</td>\n",
       "      <td>2.0</td>\n",
       "      <td>1.0</td>\n",
       "      <td>39.07</td>\n",
       "    </tr>\n",
       "    <tr>\n",
       "      <th>1</th>\n",
       "      <td>Plot  Area</td>\n",
       "      <td>Ready To Move</td>\n",
       "      <td>Chikka Tirupathi</td>\n",
       "      <td>4 Bedroom</td>\n",
       "      <td>Theanmp</td>\n",
       "      <td>2600</td>\n",
       "      <td>5.0</td>\n",
       "      <td>3.0</td>\n",
       "      <td>120.00</td>\n",
       "    </tr>\n",
       "    <tr>\n",
       "      <th>2</th>\n",
       "      <td>Built-up  Area</td>\n",
       "      <td>Ready To Move</td>\n",
       "      <td>Uttarahalli</td>\n",
       "      <td>3 BHK</td>\n",
       "      <td>NaN</td>\n",
       "      <td>1440</td>\n",
       "      <td>2.0</td>\n",
       "      <td>3.0</td>\n",
       "      <td>62.00</td>\n",
       "    </tr>\n",
       "    <tr>\n",
       "      <th>3</th>\n",
       "      <td>Super built-up  Area</td>\n",
       "      <td>Ready To Move</td>\n",
       "      <td>Lingadheeranahalli</td>\n",
       "      <td>3 BHK</td>\n",
       "      <td>Soiewre</td>\n",
       "      <td>1521</td>\n",
       "      <td>3.0</td>\n",
       "      <td>1.0</td>\n",
       "      <td>95.00</td>\n",
       "    </tr>\n",
       "    <tr>\n",
       "      <th>4</th>\n",
       "      <td>Super built-up  Area</td>\n",
       "      <td>Ready To Move</td>\n",
       "      <td>Kothanur</td>\n",
       "      <td>2 BHK</td>\n",
       "      <td>NaN</td>\n",
       "      <td>1200</td>\n",
       "      <td>2.0</td>\n",
       "      <td>1.0</td>\n",
       "      <td>51.00</td>\n",
       "    </tr>\n",
       "  </tbody>\n",
       "</table>\n",
       "</div>"
      ],
      "text/plain": [
       "              area_type   availability                  location       size  \\\n",
       "0  Super built-up  Area         19-Dec  Electronic City Phase II      2 BHK   \n",
       "1            Plot  Area  Ready To Move          Chikka Tirupathi  4 Bedroom   \n",
       "2        Built-up  Area  Ready To Move               Uttarahalli      3 BHK   \n",
       "3  Super built-up  Area  Ready To Move        Lingadheeranahalli      3 BHK   \n",
       "4  Super built-up  Area  Ready To Move                  Kothanur      2 BHK   \n",
       "\n",
       "   society total_sqft  bath  balcony   price  \n",
       "0  Coomee        1056   2.0      1.0   39.07  \n",
       "1  Theanmp       2600   5.0      3.0  120.00  \n",
       "2      NaN       1440   2.0      3.0   62.00  \n",
       "3  Soiewre       1521   3.0      1.0   95.00  \n",
       "4      NaN       1200   2.0      1.0   51.00  "
      ]
     },
     "execution_count": 4,
     "metadata": {},
     "output_type": "execute_result"
    }
   ],
   "source": [
    "df1 = pd.read_csv(\"Bengaluru_House_Data.csv\")\n",
    "df1.head()"
   ]
  },
  {
   "cell_type": "code",
   "execution_count": 5,
   "id": "c2148d37-dbe8-4df1-bd1e-1bd80d9a392d",
   "metadata": {},
   "outputs": [
    {
     "data": {
      "text/plain": [
       "(13320, 9)"
      ]
     },
     "execution_count": 5,
     "metadata": {},
     "output_type": "execute_result"
    }
   ],
   "source": [
    "df1.shape"
   ]
  },
  {
   "cell_type": "code",
   "execution_count": 6,
   "id": "42994e5a-f9a2-4906-b43b-c08f47cf6af1",
   "metadata": {},
   "outputs": [
    {
     "data": {
      "text/plain": [
       "area_type\n",
       "Built-up  Area          2418\n",
       "Carpet  Area              87\n",
       "Plot  Area              2025\n",
       "Super built-up  Area    8790\n",
       "Name: area_type, dtype: int64"
      ]
     },
     "execution_count": 6,
     "metadata": {},
     "output_type": "execute_result"
    }
   ],
   "source": [
    "# This line groups the data in the 'df1' table by the values in the 'area_type' column\n",
    "# It then counts how many times each 'area_type' appears in the table\n",
    "\n",
    "# Let's break it down:\n",
    "# df1 is our data table (like a big Excel sheet)\n",
    "# 'groupby' helps us group rows that have the same 'area_type' (like \"Built-up Area\", \"Plot Area\", etc.)\n",
    "# ['area_type'] tells Python to group the data by the 'area_type' column\n",
    "# ['area_type'].agg('count') tells Python to count how many rows are in each group (how many homes for each area type)\n",
    "\n",
    "df1.groupby('area_type')['area_type'].agg('count')\n"
   ]
  },
  {
   "cell_type": "code",
   "execution_count": 7,
   "id": "f1f7381a-92ea-4826-82d7-4eb1d62a0cf8",
   "metadata": {},
   "outputs": [
    {
     "data": {
      "text/html": [
       "<div>\n",
       "<style scoped>\n",
       "    .dataframe tbody tr th:only-of-type {\n",
       "        vertical-align: middle;\n",
       "    }\n",
       "\n",
       "    .dataframe tbody tr th {\n",
       "        vertical-align: top;\n",
       "    }\n",
       "\n",
       "    .dataframe thead th {\n",
       "        text-align: right;\n",
       "    }\n",
       "</style>\n",
       "<table border=\"1\" class=\"dataframe\">\n",
       "  <thead>\n",
       "    <tr style=\"text-align: right;\">\n",
       "      <th></th>\n",
       "      <th>location</th>\n",
       "      <th>size</th>\n",
       "      <th>total_sqft</th>\n",
       "      <th>bath</th>\n",
       "      <th>price</th>\n",
       "    </tr>\n",
       "  </thead>\n",
       "  <tbody>\n",
       "    <tr>\n",
       "      <th>0</th>\n",
       "      <td>Electronic City Phase II</td>\n",
       "      <td>2 BHK</td>\n",
       "      <td>1056</td>\n",
       "      <td>2.0</td>\n",
       "      <td>39.07</td>\n",
       "    </tr>\n",
       "    <tr>\n",
       "      <th>1</th>\n",
       "      <td>Chikka Tirupathi</td>\n",
       "      <td>4 Bedroom</td>\n",
       "      <td>2600</td>\n",
       "      <td>5.0</td>\n",
       "      <td>120.00</td>\n",
       "    </tr>\n",
       "    <tr>\n",
       "      <th>2</th>\n",
       "      <td>Uttarahalli</td>\n",
       "      <td>3 BHK</td>\n",
       "      <td>1440</td>\n",
       "      <td>2.0</td>\n",
       "      <td>62.00</td>\n",
       "    </tr>\n",
       "    <tr>\n",
       "      <th>3</th>\n",
       "      <td>Lingadheeranahalli</td>\n",
       "      <td>3 BHK</td>\n",
       "      <td>1521</td>\n",
       "      <td>3.0</td>\n",
       "      <td>95.00</td>\n",
       "    </tr>\n",
       "    <tr>\n",
       "      <th>4</th>\n",
       "      <td>Kothanur</td>\n",
       "      <td>2 BHK</td>\n",
       "      <td>1200</td>\n",
       "      <td>2.0</td>\n",
       "      <td>51.00</td>\n",
       "    </tr>\n",
       "  </tbody>\n",
       "</table>\n",
       "</div>"
      ],
      "text/plain": [
       "                   location       size total_sqft  bath   price\n",
       "0  Electronic City Phase II      2 BHK       1056   2.0   39.07\n",
       "1          Chikka Tirupathi  4 Bedroom       2600   5.0  120.00\n",
       "2               Uttarahalli      3 BHK       1440   2.0   62.00\n",
       "3        Lingadheeranahalli      3 BHK       1521   3.0   95.00\n",
       "4                  Kothanur      2 BHK       1200   2.0   51.00"
      ]
     },
     "execution_count": 7,
     "metadata": {},
     "output_type": "execute_result"
    }
   ],
   "source": [
    "# This line removes (drops) the specified columns from the original dataframe (df1)\n",
    "# The columns being removed are 'area_type', 'society', 'balcony', and 'availability'\n",
    "# The resulting dataframe is saved as df2, which is a \"cleaned-up\" version of df1 without these columns\n",
    "# axis='columns' specifies that we want to drop columns, not rows\n",
    "df2 = df1.drop(['area_type', 'society', 'balcony', 'availability'], axis='columns')\n",
    "\n",
    "# This line shows the first 5 rows of the cleaned dataframe (df2) so you can quickly check what it looks like\n",
    "# This is useful to make sure the data looks correct after removing the specified columns\n",
    "df2.head()\n"
   ]
  },
  {
   "cell_type": "code",
   "execution_count": 8,
   "id": "56563587-98ee-450d-8f7f-23140a1ede49",
   "metadata": {},
   "outputs": [
    {
     "data": {
      "text/plain": [
       "location       1\n",
       "size          16\n",
       "total_sqft     0\n",
       "bath          73\n",
       "price          0\n",
       "dtype: int64"
      ]
     },
     "execution_count": 8,
     "metadata": {},
     "output_type": "execute_result"
    }
   ],
   "source": [
    "# This line checks for missing (null) values in each column of the cleaned dataframe (df2)\n",
    "# 'isnull()' returns a dataframe of the same shape, but with 'True' where values are missing and 'False' where values are present\n",
    "# '.sum()' adds up the 'True' values (which are treated as 1), so it gives the total count of missing values in each column\n",
    "\n",
    "# This is useful to understand which columns have missing data and how many missing values there are\n",
    "df2.isnull().sum()\n"
   ]
  },
  {
   "cell_type": "code",
   "execution_count": 9,
   "id": "539c2af0-648d-4d4a-a0a2-33fbff1ae50d",
   "metadata": {},
   "outputs": [
    {
     "data": {
      "text/plain": [
       "location      0\n",
       "size          0\n",
       "total_sqft    0\n",
       "bath          0\n",
       "price         0\n",
       "dtype: int64"
      ]
     },
     "execution_count": 9,
     "metadata": {},
     "output_type": "execute_result"
    }
   ],
   "source": [
    "# The following line removes any rows from the dataframe (df2) that have missing values.\n",
    "# In other words, it deletes the rows where there is any empty cell (NaN) in the data.\n",
    "# This helps make sure that the data we're working with has no missing information.\n",
    "df3 = df2.dropna()\n",
    "\n",
    "# After removing the rows with missing values, we use the following line to check if there are any remaining missing values.\n",
    "# This will tell us if our data (df3) still has any empty cells.\n",
    "# 'isnull()' checks for missing values, and '.sum()' adds up how many missing values there are in each column.\n",
    "df3.isnull().sum()\n"
   ]
  },
  {
   "cell_type": "code",
   "execution_count": 10,
   "id": "ab46224f-703c-4484-a71d-704ad91364f1",
   "metadata": {},
   "outputs": [
    {
     "data": {
      "text/plain": [
       "(13246, 5)"
      ]
     },
     "execution_count": 10,
     "metadata": {},
     "output_type": "execute_result"
    }
   ],
   "source": [
    "df3.shape"
   ]
  },
  {
   "cell_type": "code",
   "execution_count": 11,
   "id": "ef1bf8c3-a191-4084-9c7a-b3575eefdb09",
   "metadata": {},
   "outputs": [
    {
     "data": {
      "text/plain": [
       "array(['2 BHK', '4 Bedroom', '3 BHK', '4 BHK', '6 Bedroom', '3 Bedroom',\n",
       "       '1 BHK', '1 RK', '1 Bedroom', '8 Bedroom', '2 Bedroom',\n",
       "       '7 Bedroom', '5 BHK', '7 BHK', '6 BHK', '5 Bedroom', '11 BHK',\n",
       "       '9 BHK', '9 Bedroom', '27 BHK', '10 Bedroom', '11 Bedroom',\n",
       "       '10 BHK', '19 BHK', '16 BHK', '43 Bedroom', '14 BHK', '8 BHK',\n",
       "       '12 Bedroom', '13 BHK', '18 Bedroom'], dtype=object)"
      ]
     },
     "execution_count": 11,
     "metadata": {},
     "output_type": "execute_result"
    }
   ],
   "source": [
    "# df3 is a DataFrame.\n",
    "# Think of it like a table with rows and columns.\n",
    "# Example: It may have columns like \"name\", \"size\", etc.\n",
    "\n",
    "# df3['size'] means:\n",
    "# 👉 Look at only the column called \"size\" in that table.\n",
    "# For example, it could have values like: small, medium, small, large, etc.\n",
    "\n",
    "# .unique() means:\n",
    "# 👉 Show me all the different values in that column (no repeats).\n",
    "# So, if \"size\" has: small, medium, small, large\n",
    "# This will return: small, medium, large\n",
    "\n",
    "df3['size'].unique()\n"
   ]
  },
  {
   "cell_type": "code",
   "execution_count": 12,
   "id": "093be07f-98aa-4d3d-a228-295cdedffaf7",
   "metadata": {},
   "outputs": [
    {
     "name": "stderr",
     "output_type": "stream",
     "text": [
      "C:\\Users\\vinny\\AppData\\Local\\Temp\\ipykernel_29236\\2805104231.py:19: SettingWithCopyWarning: \n",
      "A value is trying to be set on a copy of a slice from a DataFrame.\n",
      "Try using .loc[row_indexer,col_indexer] = value instead\n",
      "\n",
      "See the caveats in the documentation: https://pandas.pydata.org/pandas-docs/stable/user_guide/indexing.html#returning-a-view-versus-a-copy\n",
      "  df3['bhk'] = df3['size'].apply(lambda x : int(x.split(' ')[0]))  # We only take the first token (the number)\n"
     ]
    }
   ],
   "source": [
    "# We are creating a new column called 'bhk'\n",
    "# This column will only store the number of bedrooms from the 'size' column\n",
    "\n",
    "# df3['size'] = column like: '2 BHK', '3 Bedroom', '1 RK' etc.\n",
    "\n",
    "# .apply(lambda x: ...) means:\n",
    "# 👉 Do something for each value in the 'size' column\n",
    "\n",
    "# x.split(' ') means:\n",
    "# 👉 Split the text by space → turns '2 BHK' into a list of tokens: ['2', 'BHK']\n",
    "# Here, '2' and 'BHK' are tokens (small parts of the string)\n",
    "\n",
    "# x.split(' ')[0] means:\n",
    "# 👉 Take the first token from the list → which is the number as a string (e.g., '2')\n",
    "\n",
    "# int(...) means:\n",
    "# 👉 Convert that token (which is a string, like '2') into an actual number (like 2)\n",
    "\n",
    "df3['bhk'] = df3['size'].apply(lambda x : int(x.split(' ')[0]))  # We only take the first token (the number)\n"
   ]
  },
  {
   "cell_type": "code",
   "execution_count": 13,
   "id": "4b12f2f7-6646-4fe0-8918-65f8686c9ff6",
   "metadata": {},
   "outputs": [
    {
     "data": {
      "text/html": [
       "<div>\n",
       "<style scoped>\n",
       "    .dataframe tbody tr th:only-of-type {\n",
       "        vertical-align: middle;\n",
       "    }\n",
       "\n",
       "    .dataframe tbody tr th {\n",
       "        vertical-align: top;\n",
       "    }\n",
       "\n",
       "    .dataframe thead th {\n",
       "        text-align: right;\n",
       "    }\n",
       "</style>\n",
       "<table border=\"1\" class=\"dataframe\">\n",
       "  <thead>\n",
       "    <tr style=\"text-align: right;\">\n",
       "      <th></th>\n",
       "      <th>location</th>\n",
       "      <th>size</th>\n",
       "      <th>total_sqft</th>\n",
       "      <th>bath</th>\n",
       "      <th>price</th>\n",
       "      <th>bhk</th>\n",
       "    </tr>\n",
       "  </thead>\n",
       "  <tbody>\n",
       "    <tr>\n",
       "      <th>0</th>\n",
       "      <td>Electronic City Phase II</td>\n",
       "      <td>2 BHK</td>\n",
       "      <td>1056</td>\n",
       "      <td>2.0</td>\n",
       "      <td>39.07</td>\n",
       "      <td>2</td>\n",
       "    </tr>\n",
       "    <tr>\n",
       "      <th>1</th>\n",
       "      <td>Chikka Tirupathi</td>\n",
       "      <td>4 Bedroom</td>\n",
       "      <td>2600</td>\n",
       "      <td>5.0</td>\n",
       "      <td>120.00</td>\n",
       "      <td>4</td>\n",
       "    </tr>\n",
       "    <tr>\n",
       "      <th>2</th>\n",
       "      <td>Uttarahalli</td>\n",
       "      <td>3 BHK</td>\n",
       "      <td>1440</td>\n",
       "      <td>2.0</td>\n",
       "      <td>62.00</td>\n",
       "      <td>3</td>\n",
       "    </tr>\n",
       "    <tr>\n",
       "      <th>3</th>\n",
       "      <td>Lingadheeranahalli</td>\n",
       "      <td>3 BHK</td>\n",
       "      <td>1521</td>\n",
       "      <td>3.0</td>\n",
       "      <td>95.00</td>\n",
       "      <td>3</td>\n",
       "    </tr>\n",
       "    <tr>\n",
       "      <th>4</th>\n",
       "      <td>Kothanur</td>\n",
       "      <td>2 BHK</td>\n",
       "      <td>1200</td>\n",
       "      <td>2.0</td>\n",
       "      <td>51.00</td>\n",
       "      <td>2</td>\n",
       "    </tr>\n",
       "  </tbody>\n",
       "</table>\n",
       "</div>"
      ],
      "text/plain": [
       "                   location       size total_sqft  bath   price  bhk\n",
       "0  Electronic City Phase II      2 BHK       1056   2.0   39.07    2\n",
       "1          Chikka Tirupathi  4 Bedroom       2600   5.0  120.00    4\n",
       "2               Uttarahalli      3 BHK       1440   2.0   62.00    3\n",
       "3        Lingadheeranahalli      3 BHK       1521   3.0   95.00    3\n",
       "4                  Kothanur      2 BHK       1200   2.0   51.00    2"
      ]
     },
     "execution_count": 13,
     "metadata": {},
     "output_type": "execute_result"
    }
   ],
   "source": [
    "df3.head()"
   ]
  },
  {
   "cell_type": "code",
   "execution_count": 14,
   "id": "71c186de-5ac1-4f65-a2a2-ea30cd9bd7b2",
   "metadata": {},
   "outputs": [
    {
     "data": {
      "text/plain": [
       "array([ 2,  4,  3,  6,  1,  8,  7,  5, 11,  9, 27, 10, 19, 16, 43, 14, 12,\n",
       "       13, 18])"
      ]
     },
     "execution_count": 14,
     "metadata": {},
     "output_type": "execute_result"
    }
   ],
   "source": [
    "# df3['bhk'] is the column where we stored the number of bedrooms (like 2, 3, 4, etc.)\n",
    "# .unique() is looking at the 'bhk' column and giving us only the unique values.\n",
    "# This means it removes any duplicates and only shows the different numbers of bedrooms.\n",
    "\n",
    "df3['bhk'].unique()  \n"
   ]
  },
  {
   "cell_type": "code",
   "execution_count": 15,
   "id": "afa7ac47-0f8d-4439-b760-280fb72d6a05",
   "metadata": {},
   "outputs": [
    {
     "data": {
      "text/html": [
       "<div>\n",
       "<style scoped>\n",
       "    .dataframe tbody tr th:only-of-type {\n",
       "        vertical-align: middle;\n",
       "    }\n",
       "\n",
       "    .dataframe tbody tr th {\n",
       "        vertical-align: top;\n",
       "    }\n",
       "\n",
       "    .dataframe thead th {\n",
       "        text-align: right;\n",
       "    }\n",
       "</style>\n",
       "<table border=\"1\" class=\"dataframe\">\n",
       "  <thead>\n",
       "    <tr style=\"text-align: right;\">\n",
       "      <th></th>\n",
       "      <th>location</th>\n",
       "      <th>size</th>\n",
       "      <th>total_sqft</th>\n",
       "      <th>bath</th>\n",
       "      <th>price</th>\n",
       "      <th>bhk</th>\n",
       "    </tr>\n",
       "  </thead>\n",
       "  <tbody>\n",
       "    <tr>\n",
       "      <th>1718</th>\n",
       "      <td>2Electronic City Phase II</td>\n",
       "      <td>27 BHK</td>\n",
       "      <td>8000</td>\n",
       "      <td>27.0</td>\n",
       "      <td>230.0</td>\n",
       "      <td>27</td>\n",
       "    </tr>\n",
       "    <tr>\n",
       "      <th>4684</th>\n",
       "      <td>Munnekollal</td>\n",
       "      <td>43 Bedroom</td>\n",
       "      <td>2400</td>\n",
       "      <td>40.0</td>\n",
       "      <td>660.0</td>\n",
       "      <td>43</td>\n",
       "    </tr>\n",
       "  </tbody>\n",
       "</table>\n",
       "</div>"
      ],
      "text/plain": [
       "                       location        size total_sqft  bath  price  bhk\n",
       "1718  2Electronic City Phase II      27 BHK       8000  27.0  230.0   27\n",
       "4684                Munnekollal  43 Bedroom       2400  40.0  660.0   43"
      ]
     },
     "execution_count": 15,
     "metadata": {},
     "output_type": "execute_result"
    }
   ],
   "source": [
    "# df3 is our DataFrame (think of it like a table of data)\n",
    "\n",
    "# df3.bhk is the column in the DataFrame that contains the number of bedrooms for each property.\n",
    "\n",
    "# df3.bhk > 20 checks which properties have more than 20 bedrooms.\n",
    "# It will create a condition that only returns True for rows where the 'bhk' value is greater than 20.\n",
    "\n",
    "# df3[...] means: Select the rows where the condition inside the brackets is True.\n",
    "# So, this line will return only the rows where the number of bedrooms is greater than 20.\n",
    "\n",
    "df3[df3.bhk > 20]\n",
    "\n",
    "# Example output:\n",
    "\n",
    "# location                size         total_sqft    bath   price   bhk\n",
    "# 2Electronic City Phase II  27 BHK       8000         27     230.0   27\n",
    "# Munnekollal              43 Bedroom     2400         40     660.0   43\n",
    "\n"
   ]
  },
  {
   "cell_type": "code",
   "execution_count": 17,
   "id": "a69dc7b9-607f-474d-b528-6d4ce93af0b9",
   "metadata": {},
   "outputs": [
    {
     "data": {
      "text/plain": [
       "array(['1056', '2600', '1440', ..., '1133 - 1384', '774', '4689'],\n",
       "      dtype=object)"
      ]
     },
     "execution_count": 17,
     "metadata": {},
     "output_type": "execute_result"
    }
   ],
   "source": [
    "# df3 is our DataFrame (like a table made of rows and columns)\n",
    "\n",
    "# df3.total_sqft means:\n",
    "# 👉 We are looking at only the column named \"total_sqft\"\n",
    "# 👉 This column shows the size of the house or flat in square feet\n",
    "\n",
    "# .unique() means:\n",
    "# 👉 Show all the different (unique) values in this column\n",
    "# 👉 Do not repeat values that appear more than once\n",
    "\n",
    "df3.total_sqft.unique()\n"
   ]
  },
  {
   "cell_type": "code",
   "execution_count": 18,
   "id": "2d9cd4a4-d60b-4d18-92ce-263a95d97509",
   "metadata": {},
   "outputs": [],
   "source": [
    "# ✅ Purpose of the Function is_float(x):\n",
    "# This function checks if a given value x can be converted into a number (float).\n",
    "\n",
    "# 🔍 Why do we need this?\n",
    "# Because in our data (df3.total_sqft), some values are messy or in different formats:\n",
    "# 👉 Normal numbers like '1056' ✅\n",
    "# 👉 Ranges like '1133 - 1384' ❌\n",
    "# 👉 Words like '34.46Sq. Meter' ❌\n",
    "\n",
    "# So, we want to find out which values are clean numbers (and keep them),\n",
    "# and which are not (so we can fix or remove them later).\n",
    "\n",
    "def is_float(x):\n",
    "    try:\n",
    "        # Try to convert the value x to a float (number with decimal)\n",
    "        float(x)\n",
    "    except:\n",
    "        # If an error happens during conversion, it means x is NOT a clean number\n",
    "        return False\n",
    "    # If it gets converted without error, return True\n",
    "    return True\n"
   ]
  },
  {
   "cell_type": "code",
   "execution_count": 22,
   "id": "72127ad0-3cb2-49fd-93d3-92d0c0299ce1",
   "metadata": {
    "scrolled": true
   },
   "outputs": [
    {
     "data": {
      "text/html": [
       "<div>\n",
       "<style scoped>\n",
       "    .dataframe tbody tr th:only-of-type {\n",
       "        vertical-align: middle;\n",
       "    }\n",
       "\n",
       "    .dataframe tbody tr th {\n",
       "        vertical-align: top;\n",
       "    }\n",
       "\n",
       "    .dataframe thead th {\n",
       "        text-align: right;\n",
       "    }\n",
       "</style>\n",
       "<table border=\"1\" class=\"dataframe\">\n",
       "  <thead>\n",
       "    <tr style=\"text-align: right;\">\n",
       "      <th></th>\n",
       "      <th>location</th>\n",
       "      <th>size</th>\n",
       "      <th>total_sqft</th>\n",
       "      <th>bath</th>\n",
       "      <th>price</th>\n",
       "      <th>bhk</th>\n",
       "    </tr>\n",
       "  </thead>\n",
       "  <tbody>\n",
       "    <tr>\n",
       "      <th>30</th>\n",
       "      <td>Yelahanka</td>\n",
       "      <td>4 BHK</td>\n",
       "      <td>2100 - 2850</td>\n",
       "      <td>4.0</td>\n",
       "      <td>186.000</td>\n",
       "      <td>4</td>\n",
       "    </tr>\n",
       "    <tr>\n",
       "      <th>122</th>\n",
       "      <td>Hebbal</td>\n",
       "      <td>4 BHK</td>\n",
       "      <td>3067 - 8156</td>\n",
       "      <td>4.0</td>\n",
       "      <td>477.000</td>\n",
       "      <td>4</td>\n",
       "    </tr>\n",
       "    <tr>\n",
       "      <th>137</th>\n",
       "      <td>8th Phase JP Nagar</td>\n",
       "      <td>2 BHK</td>\n",
       "      <td>1042 - 1105</td>\n",
       "      <td>2.0</td>\n",
       "      <td>54.005</td>\n",
       "      <td>2</td>\n",
       "    </tr>\n",
       "    <tr>\n",
       "      <th>165</th>\n",
       "      <td>Sarjapur</td>\n",
       "      <td>2 BHK</td>\n",
       "      <td>1145 - 1340</td>\n",
       "      <td>2.0</td>\n",
       "      <td>43.490</td>\n",
       "      <td>2</td>\n",
       "    </tr>\n",
       "    <tr>\n",
       "      <th>188</th>\n",
       "      <td>KR Puram</td>\n",
       "      <td>2 BHK</td>\n",
       "      <td>1015 - 1540</td>\n",
       "      <td>2.0</td>\n",
       "      <td>56.800</td>\n",
       "      <td>2</td>\n",
       "    </tr>\n",
       "    <tr>\n",
       "      <th>410</th>\n",
       "      <td>Kengeri</td>\n",
       "      <td>1 BHK</td>\n",
       "      <td>34.46Sq. Meter</td>\n",
       "      <td>1.0</td>\n",
       "      <td>18.500</td>\n",
       "      <td>1</td>\n",
       "    </tr>\n",
       "    <tr>\n",
       "      <th>549</th>\n",
       "      <td>Hennur Road</td>\n",
       "      <td>2 BHK</td>\n",
       "      <td>1195 - 1440</td>\n",
       "      <td>2.0</td>\n",
       "      <td>63.770</td>\n",
       "      <td>2</td>\n",
       "    </tr>\n",
       "    <tr>\n",
       "      <th>648</th>\n",
       "      <td>Arekere</td>\n",
       "      <td>9 Bedroom</td>\n",
       "      <td>4125Perch</td>\n",
       "      <td>9.0</td>\n",
       "      <td>265.000</td>\n",
       "      <td>9</td>\n",
       "    </tr>\n",
       "    <tr>\n",
       "      <th>661</th>\n",
       "      <td>Yelahanka</td>\n",
       "      <td>2 BHK</td>\n",
       "      <td>1120 - 1145</td>\n",
       "      <td>2.0</td>\n",
       "      <td>48.130</td>\n",
       "      <td>2</td>\n",
       "    </tr>\n",
       "    <tr>\n",
       "      <th>672</th>\n",
       "      <td>Bettahalsoor</td>\n",
       "      <td>4 Bedroom</td>\n",
       "      <td>3090 - 5002</td>\n",
       "      <td>4.0</td>\n",
       "      <td>445.000</td>\n",
       "      <td>4</td>\n",
       "    </tr>\n",
       "  </tbody>\n",
       "</table>\n",
       "</div>"
      ],
      "text/plain": [
       "               location       size      total_sqft  bath    price  bhk\n",
       "30            Yelahanka      4 BHK     2100 - 2850   4.0  186.000    4\n",
       "122              Hebbal      4 BHK     3067 - 8156   4.0  477.000    4\n",
       "137  8th Phase JP Nagar      2 BHK     1042 - 1105   2.0   54.005    2\n",
       "165            Sarjapur      2 BHK     1145 - 1340   2.0   43.490    2\n",
       "188            KR Puram      2 BHK     1015 - 1540   2.0   56.800    2\n",
       "410             Kengeri      1 BHK  34.46Sq. Meter   1.0   18.500    1\n",
       "549         Hennur Road      2 BHK     1195 - 1440   2.0   63.770    2\n",
       "648             Arekere  9 Bedroom       4125Perch   9.0  265.000    9\n",
       "661           Yelahanka      2 BHK     1120 - 1145   2.0   48.130    2\n",
       "672        Bettahalsoor  4 Bedroom     3090 - 5002   4.0  445.000    4"
      ]
     },
     "execution_count": 22,
     "metadata": {},
     "output_type": "execute_result"
    }
   ],
   "source": [
    "# ✅ Purpose of this line:\n",
    "# We are checking which rows in df3 have a 'total_sqft' value that is NOT a clean number.\n",
    "\n",
    "# ❓ Why we used it:\n",
    "# Because some entries in 'total_sqft' are not valid numbers — they are:\n",
    "# 👉 Ranges like '1133 - 1384'\n",
    "# 👉 Units like '34.46Sq. Meter'\n",
    "# 👉 Text or bad data\n",
    "# We want to **find and look at those bad values** so we can clean or fix them.\n",
    "\n",
    "# df3 is our table (DataFrame)\n",
    "\n",
    "# df3['total_sqft'] gives us the column with all the house sizes\n",
    "\n",
    "# .apply(is_float) means:\n",
    "# 👉 For every value in 'total_sqft', check if it's a clean number using our is_float function\n",
    "# 👉 It returns True for valid numbers and False for messy/bad ones\n",
    "\n",
    "# ~ (tilde) means NOT in Python\n",
    "# 👉 So ~df3['total_sqft'].apply(is_float) gives us only the rows with BAD values (not float)\n",
    "\n",
    "# Finally, df3[...] selects all the rows where the condition is True (i.e., bad sqft data)\n",
    "\n",
    "df3[~df3['total_sqft'].apply(is_float)].head(10)\n"
   ]
  },
  {
   "cell_type": "code",
   "execution_count": 23,
   "id": "218c13db-a4fb-4804-9653-776cf7a37d26",
   "metadata": {},
   "outputs": [],
   "source": [
    "# ✅ Purpose of this function:\n",
    "# This function cleans the 'total_sqft' values.\n",
    "# It tries to turn the messy data into clean numbers (floats).\n",
    "\n",
    "# ❓ Why we need it:\n",
    "# Some values are ranges like '2100 - 2850' → we want the average = (2100 + 2850)/2\n",
    "# Some are clean numbers like '1056' → we just keep as it is\n",
    "# Some have units or bad data like '34.46Sq. Meter' → we skip (return None)\n",
    "\n",
    "def convert_sqft_to_num(x):\n",
    "    # 👉 First check if the value has a range using ' - ' (note: not underscore!)\n",
    "    tokens = x.split(' - ')  # We use ' - ' to split ranges like '2100 - 2850'\n",
    "\n",
    "    if len(tokens) == 2:\n",
    "        # If we get 2 numbers, convert both to float and take their average\n",
    "        return (float(tokens[0]) + float(tokens[1])) / 2\n",
    "\n",
    "    try:\n",
    "        # If it's not a range, try to convert directly to float (like '1056')\n",
    "        return float(x)\n",
    "    except:\n",
    "        # If it's not a number at all (like '34.46Sq. Meter'), return None\n",
    "        return None\n"
   ]
  },
  {
   "cell_type": "code",
   "execution_count": 27,
   "id": "7d646914-a8ef-4115-8fac-26eca2a866ac",
   "metadata": {},
   "outputs": [
    {
     "data": {
      "text/plain": [
       "2166.0"
      ]
     },
     "execution_count": 27,
     "metadata": {},
     "output_type": "execute_result"
    }
   ],
   "source": [
    "# Calling the function with a single number as a string: '2166'\n",
    "# Purpose:\n",
    "# This is a clean number, so it should be directly converted into a float.\n",
    "\n",
    "convert_sqft_to_num('2166')\n"
   ]
  },
  {
   "cell_type": "code",
   "execution_count": 29,
   "id": "4f9e391c-f725-4fd6-b043-d0eb92ed3955",
   "metadata": {},
   "outputs": [
    {
     "data": {
      "text/plain": [
       "2475.0"
      ]
     },
     "execution_count": 29,
     "metadata": {},
     "output_type": "execute_result"
    }
   ],
   "source": [
    "# Calling the function with a range: '2100 - 2850'\n",
    "# Purpose:\n",
    "# This is a range, so the function will split the string and calculate the average of the two values.\n",
    "\n",
    "convert_sqft_to_num('2100 - 2850')\n"
   ]
  },
  {
   "cell_type": "code",
   "execution_count": 31,
   "id": "f65dbed3-a7c1-4f9d-8202-6d305974f39a",
   "metadata": {},
   "outputs": [],
   "source": [
    "# Calling the function with a string containing units: '34.46sq. Meter'\n",
    "# Purpose:\n",
    "# This string contains a unit ('sq. Meter'), so the function should fail to convert it and return None.\n",
    "\n",
    "convert_sqft_to_num('34.46sq. Meter')\n"
   ]
  },
  {
   "cell_type": "code",
   "execution_count": 34,
   "id": "6317cf61-9b9a-456d-81e2-a33fe951f3e2",
   "metadata": {},
   "outputs": [
    {
     "data": {
      "text/html": [
       "<div>\n",
       "<style scoped>\n",
       "    .dataframe tbody tr th:only-of-type {\n",
       "        vertical-align: middle;\n",
       "    }\n",
       "\n",
       "    .dataframe tbody tr th {\n",
       "        vertical-align: top;\n",
       "    }\n",
       "\n",
       "    .dataframe thead th {\n",
       "        text-align: right;\n",
       "    }\n",
       "</style>\n",
       "<table border=\"1\" class=\"dataframe\">\n",
       "  <thead>\n",
       "    <tr style=\"text-align: right;\">\n",
       "      <th></th>\n",
       "      <th>location</th>\n",
       "      <th>size</th>\n",
       "      <th>total_sqft</th>\n",
       "      <th>bath</th>\n",
       "      <th>price</th>\n",
       "      <th>bhk</th>\n",
       "    </tr>\n",
       "  </thead>\n",
       "  <tbody>\n",
       "    <tr>\n",
       "      <th>0</th>\n",
       "      <td>Electronic City Phase II</td>\n",
       "      <td>2 BHK</td>\n",
       "      <td>1056.0</td>\n",
       "      <td>2.0</td>\n",
       "      <td>39.07</td>\n",
       "      <td>2</td>\n",
       "    </tr>\n",
       "    <tr>\n",
       "      <th>1</th>\n",
       "      <td>Chikka Tirupathi</td>\n",
       "      <td>4 Bedroom</td>\n",
       "      <td>2600.0</td>\n",
       "      <td>5.0</td>\n",
       "      <td>120.00</td>\n",
       "      <td>4</td>\n",
       "    </tr>\n",
       "  </tbody>\n",
       "</table>\n",
       "</div>"
      ],
      "text/plain": [
       "                   location       size  total_sqft  bath   price  bhk\n",
       "0  Electronic City Phase II      2 BHK      1056.0   2.0   39.07    2\n",
       "1          Chikka Tirupathi  4 Bedroom      2600.0   5.0  120.00    4"
      ]
     },
     "execution_count": 34,
     "metadata": {},
     "output_type": "execute_result"
    }
   ],
   "source": [
    "# Creating a copy of df3 and storing it in a new DataFrame df4\n",
    "# This creates a completely new DataFrame df4 that is identical to df3, \n",
    "# but they are two separate objects in memory. Any changes to df4 will not affect df3.\n",
    "# Purpose: This helps preserve the original DataFrame (df3) so that we don't accidentally change it\n",
    "# during our data processing or analysis steps.\n",
    "df4 = df3.copy()\n",
    "\n",
    "# Applying the function 'convert_sqft_to_num' to each value in the 'total_sqft' column of df4\n",
    "# This will clean up the 'total_sqft' column by converting all valid entries into numbers \n",
    "# (for ranges, it calculates the average), and invalid values will be converted to None.\n",
    "# Purpose: The 'total_sqft' column may contain values like ranges or invalid entries,\n",
    "# and we want to make sure that all the entries in this column are clean numeric values (or None if invalid).\n",
    "df4['total_sqft'] = df4['total_sqft'].apply(convert_sqft_to_num)\n",
    "\n",
    "# Displaying the first few rows of the updated df4 DataFrame\n",
    "# This allows us to see how the 'total_sqft' column has been updated after applying the conversion function.\n",
    "# Purpose: This helps us confirm that the 'convert_sqft_to_num' function worked correctly\n",
    "# and transformed the 'total_sqft' values as expected. It's a quick way to check the transformations.\n",
    "df4.head(2)\n"
   ]
  },
  {
   "cell_type": "code",
   "execution_count": 37,
   "id": "ddd0498e-0f85-4415-927e-6e244076b6ad",
   "metadata": {},
   "outputs": [
    {
     "data": {
      "text/plain": [
       "location      Yelahanka\n",
       "size              4 BHK\n",
       "total_sqft       2475.0\n",
       "bath                4.0\n",
       "price             186.0\n",
       "bhk                   4\n",
       "Name: 30, dtype: object"
      ]
     },
     "execution_count": 37,
     "metadata": {},
     "output_type": "execute_result"
    }
   ],
   "source": [
    "# Accessing the row in df4 at index 30 using the .loc method\n",
    "# .loc is used to access a specific row by its index label.\n",
    "# In this case, it's fetching the data of the row at index 30 from df4.\n",
    "# Purpose: This allows us to view all the details of the property located at index 30\n",
    "# in the dataset, including its location, size, total_sqft, bath, price, and bhk.\n",
    "\n",
    "df4.loc[30]\n"
   ]
  },
  {
   "cell_type": "code",
   "execution_count": 38,
   "id": "e641764f-3fa6-4114-ab1f-b409f4028c24",
   "metadata": {},
   "outputs": [
    {
     "data": {
      "text/plain": [
       "2475.0"
      ]
     },
     "execution_count": 38,
     "metadata": {},
     "output_type": "execute_result"
    }
   ],
   "source": [
    "(2100+2850)/2"
   ]
  },
  {
   "cell_type": "code",
   "execution_count": 41,
   "id": "0a8c7ad8-587b-42ba-b50a-a06000728569",
   "metadata": {},
   "outputs": [
    {
     "data": {
      "text/html": [
       "<div>\n",
       "<style scoped>\n",
       "    .dataframe tbody tr th:only-of-type {\n",
       "        vertical-align: middle;\n",
       "    }\n",
       "\n",
       "    .dataframe tbody tr th {\n",
       "        vertical-align: top;\n",
       "    }\n",
       "\n",
       "    .dataframe thead th {\n",
       "        text-align: right;\n",
       "    }\n",
       "</style>\n",
       "<table border=\"1\" class=\"dataframe\">\n",
       "  <thead>\n",
       "    <tr style=\"text-align: right;\">\n",
       "      <th></th>\n",
       "      <th>location</th>\n",
       "      <th>size</th>\n",
       "      <th>total_sqft</th>\n",
       "      <th>bath</th>\n",
       "      <th>price</th>\n",
       "      <th>bhk</th>\n",
       "      <th>price_per_sqft</th>\n",
       "    </tr>\n",
       "  </thead>\n",
       "  <tbody>\n",
       "    <tr>\n",
       "      <th>0</th>\n",
       "      <td>Electronic City Phase II</td>\n",
       "      <td>2 BHK</td>\n",
       "      <td>1056.0</td>\n",
       "      <td>2.0</td>\n",
       "      <td>39.07</td>\n",
       "      <td>2</td>\n",
       "      <td>3699.810606</td>\n",
       "    </tr>\n",
       "    <tr>\n",
       "      <th>1</th>\n",
       "      <td>Chikka Tirupathi</td>\n",
       "      <td>4 Bedroom</td>\n",
       "      <td>2600.0</td>\n",
       "      <td>5.0</td>\n",
       "      <td>120.00</td>\n",
       "      <td>4</td>\n",
       "      <td>4615.384615</td>\n",
       "    </tr>\n",
       "    <tr>\n",
       "      <th>2</th>\n",
       "      <td>Uttarahalli</td>\n",
       "      <td>3 BHK</td>\n",
       "      <td>1440.0</td>\n",
       "      <td>2.0</td>\n",
       "      <td>62.00</td>\n",
       "      <td>3</td>\n",
       "      <td>4305.555556</td>\n",
       "    </tr>\n",
       "    <tr>\n",
       "      <th>3</th>\n",
       "      <td>Lingadheeranahalli</td>\n",
       "      <td>3 BHK</td>\n",
       "      <td>1521.0</td>\n",
       "      <td>3.0</td>\n",
       "      <td>95.00</td>\n",
       "      <td>3</td>\n",
       "      <td>6245.890861</td>\n",
       "    </tr>\n",
       "    <tr>\n",
       "      <th>4</th>\n",
       "      <td>Kothanur</td>\n",
       "      <td>2 BHK</td>\n",
       "      <td>1200.0</td>\n",
       "      <td>2.0</td>\n",
       "      <td>51.00</td>\n",
       "      <td>2</td>\n",
       "      <td>4250.000000</td>\n",
       "    </tr>\n",
       "  </tbody>\n",
       "</table>\n",
       "</div>"
      ],
      "text/plain": [
       "                   location       size  total_sqft  bath   price  bhk  \\\n",
       "0  Electronic City Phase II      2 BHK      1056.0   2.0   39.07    2   \n",
       "1          Chikka Tirupathi  4 Bedroom      2600.0   5.0  120.00    4   \n",
       "2               Uttarahalli      3 BHK      1440.0   2.0   62.00    3   \n",
       "3        Lingadheeranahalli      3 BHK      1521.0   3.0   95.00    3   \n",
       "4                  Kothanur      2 BHK      1200.0   2.0   51.00    2   \n",
       "\n",
       "   price_per_sqft  \n",
       "0     3699.810606  \n",
       "1     4615.384615  \n",
       "2     4305.555556  \n",
       "3     6245.890861  \n",
       "4     4250.000000  "
      ]
     },
     "execution_count": 41,
     "metadata": {},
     "output_type": "execute_result"
    }
   ],
   "source": [
    "# -------------------- Feature Engineering: Creating a New Column --------------------\n",
    "\n",
    "# Step 1: Make a new copy of the cleaned DataFrame\n",
    "# 📌 Why? So we keep the original df4 safe and untouched.\n",
    "# If something goes wrong later, we can still go back to df4 and fix it.\n",
    "df5 = df4.copy()\n",
    "\n",
    "# Step 2: Create a new column called 'price_per_sqft'\n",
    "# 👉 'price' column is in Lakhs (1 Lakh = 100,000 Rupees)\n",
    "# 👉 We multiply the price by 100000 to convert it into rupees\n",
    "# 👉 We divide that rupee price by total_sqft to get price per square foot\n",
    "# 🧠 This helps us know how much 1 sq. foot costs in each property\n",
    "# Example: A house costs 50 lakhs and is 1000 sqft\n",
    "#          price_per_sqft = (50 * 100000) / 1000 = ₹5000 per sq. ft.\n",
    "df5['price_per_sqft'] = df5['price'] * 100000 / df5['total_sqft']\n",
    "\n",
    "# Step 3: Show the first few rows of df5 to check the new column\n",
    "#Helps us confirm that our new column was added correctly\n",
    "df5.head()\n"
   ]
  },
  {
   "cell_type": "code",
   "execution_count": 42,
   "id": "f26df148-31e7-49c3-8092-4386e9fc4f6b",
   "metadata": {},
   "outputs": [
    {
     "data": {
      "text/plain": [
       "array(['Electronic City Phase II', 'Chikka Tirupathi', 'Uttarahalli', ...,\n",
       "       '12th cross srinivas nagar banshankari 3rd stage',\n",
       "       'Havanur extension', 'Abshot Layout'], dtype=object)"
      ]
     },
     "execution_count": 42,
     "metadata": {},
     "output_type": "execute_result"
    }
   ],
   "source": [
    "df5.location.unique() # it will give us how many unique locations we have "
   ]
  },
  {
   "cell_type": "code",
   "execution_count": 44,
   "id": "7263c611-e550-41c4-9d32-d590a7b91d2b",
   "metadata": {},
   "outputs": [
    {
     "data": {
      "text/plain": [
       "1304"
      ]
     },
     "execution_count": 44,
     "metadata": {},
     "output_type": "execute_result"
    }
   ],
   "source": [
    "# -------------------- Check Unique Locations --------------------\n",
    "\n",
    "# Step 1: Check how many unique location names we have in the dataset\n",
    "# 🧠 This helps us understand how many different areas or neighborhoods are present\n",
    "# df5['location'] gives us the column\n",
    "# .unique() returns all the unique location names (no duplicates)\n",
    "# len(...) counts how many unique names are there\n",
    "len(df5.location.unique())\n"
   ]
  },
  {
   "cell_type": "code",
   "execution_count": 47,
   "id": "16e7c513-0116-4347-8555-5c583adfe1e3",
   "metadata": {},
   "outputs": [
    {
     "data": {
      "text/plain": [
       "location\n",
       "Whitefield                            535\n",
       "Sarjapur  Road                        392\n",
       "Electronic City                       304\n",
       "Kanakpura Road                        266\n",
       "Thanisandra                           236\n",
       "                                     ... \n",
       "poornaprajna layout                     1\n",
       "pavitra paradise                        1\n",
       "near Ramanashree California resort      1\n",
       "mvj engineering college                 1\n",
       "1Kasavanhalli                           1\n",
       "Name: location, Length: 1293, dtype: int64"
      ]
     },
     "execution_count": 47,
     "metadata": {},
     "output_type": "execute_result"
    }
   ],
   "source": [
    "# -------------------- Clean and Analyze Location Column --------------------\n",
    "\n",
    "# Step 1: Remove any extra spaces from location names\n",
    "# 👉 Sometimes location names have spaces before or after the name like:\n",
    "#    'Yelahanka ' or ' Yelahanka'\n",
    "# 👉 These are treated as different locations even though they are the same\n",
    "# 🧽 So we use strip() to clean the text and remove unwanted spaces\n",
    "df5.location = df5.location.apply(lambda x: x.strip())\n",
    "\n",
    "# Step 2: Count how many properties are listed in each location\n",
    "# 👉 We use groupby('location') to group all the rows that have the same location name\n",
    "# 👉 Then we apply 'count' on the 'location' column to see how many times each location appears\n",
    "# 🧠 Example: if \"Whitefield\" appears 50 times, we will get \"Whitefield: 50\"\n",
    "location_stats = df5.groupby('location')['location'].agg('count')\n",
    "\n",
    "# Step 3: Sort the locations based on how many listings they have\n",
    "# 📊 We want to see the most common locations at the top\n",
    "# 📉 .sort_values(ascending=False) sorts from highest to lowest\n",
    "location_stats = location_stats.sort_values(ascending=False)\n",
    "\n",
    "# Step 4: Show the result\n",
    "# 👀 This will give us an idea of:\n",
    "#   - Which locations are popular (appear many times)\n",
    "#   - Which locations are rare (appear only once or twice)\n",
    "# 💡 This info helps in the next step where we reduce the number of unique locations\n",
    "location_stats\n"
   ]
  },
  {
   "cell_type": "code",
   "execution_count": 48,
   "id": "b30315b7-60a4-4fc3-978e-e0dbf5da3146",
   "metadata": {},
   "outputs": [
    {
     "data": {
      "text/plain": [
       "1052"
      ]
     },
     "execution_count": 48,
     "metadata": {},
     "output_type": "execute_result"
    }
   ],
   "source": [
    "# -------------------- Analyze Rare Locations --------------------\n",
    "\n",
    "# Step: Count how many locations appear 10 times or fewer in the dataset\n",
    "# 👉 location_stats already contains how many times each location appears\n",
    "# 👉 location_stats <= 10 creates a filter for rare locations (appearing <= 10 times)\n",
    "# 👉 location_stats[location_stats <= 10] gives us a list of those rare locations\n",
    "# 👉 len(...) counts how many such rare locations there are\n",
    "\n",
    "# 🧠 Why is this important?\n",
    "#    - These rare locations (only 1–10 listings) may not have enough data for the machine learning model to learn from\n",
    "#    - Having too many unique locations creates too many dimensions/features for the model\n",
    "#    - Grouping them into a common category (like 'other') helps reduce noise and improve performance\n",
    "\n",
    "len(location_stats[location_stats <= 10])  # ✅ Output: 1052 rare locations\n"
   ]
  },
  {
   "cell_type": "code",
   "execution_count": 49,
   "id": "cd4b70bd-6435-4ec9-b680-da0e84d5d106",
   "metadata": {},
   "outputs": [
    {
     "data": {
      "text/plain": [
       "location\n",
       "Kalkere                               10\n",
       "Sadashiva Nagar                       10\n",
       "BTM 1st Stage                         10\n",
       "Basapura                              10\n",
       "Gunjur Palya                          10\n",
       "                                      ..\n",
       "poornaprajna layout                    1\n",
       "pavitra paradise                       1\n",
       "near Ramanashree California resort     1\n",
       "mvj engineering college                1\n",
       "1Kasavanhalli                          1\n",
       "Name: location, Length: 1052, dtype: int64"
      ]
     },
     "execution_count": 49,
     "metadata": {},
     "output_type": "execute_result"
    }
   ],
   "source": [
    "# -------------------- Store Rare Locations into a New Variable --------------------\n",
    "\n",
    "# Step 1: Create a new variable for rare locations\n",
    "# 👉 location_stats contains all locations and their counts\n",
    "# 👉 location_stats <= 10 filters only those locations that appear 10 times or fewer\n",
    "# 👉 We are saving this filtered data in a new variable called location_stats_less_than_10\n",
    "\n",
    "location_stats_less_than_10 = location_stats[location_stats <= 10]\n",
    "\n",
    "# Step 2: Show the list of rare locations\n",
    "# 🧠 This helps us identify which location names appear too few times in the dataset\n",
    "#    These will later be replaced with a common label like 'other'\n",
    "location_stats_less_than_10\n"
   ]
  },
  {
   "cell_type": "code",
   "execution_count": 50,
   "id": "6bb6d985-3dc6-4c9c-b5b6-61930f44b58e",
   "metadata": {},
   "outputs": [
    {
     "data": {
      "text/plain": [
       "1293"
      ]
     },
     "execution_count": 50,
     "metadata": {},
     "output_type": "execute_result"
    }
   ],
   "source": [
    "len(df5.location.unique())"
   ]
  },
  {
   "cell_type": "code",
   "execution_count": 51,
   "id": "c9dd462b-cfb5-45d5-84d8-a617644042c1",
   "metadata": {},
   "outputs": [
    {
     "data": {
      "text/plain": [
       "242"
      ]
     },
     "execution_count": 51,
     "metadata": {},
     "output_type": "execute_result"
    }
   ],
   "source": [
    "# -------------------- Replace Rare Locations with 'other' --------------------\n",
    "\n",
    "# Step 1: Replace all rare locations with a common name 'other'\n",
    "# 👉 If the location is in the list of rare locations (location_stats_less_than_10), we replace it with 'other'\n",
    "# 👉 Otherwise, we keep the location name as is\n",
    "# 📌 Why? Having too many unique location values can make the model overfit or become too complex.\n",
    "#        Grouping rare locations under 'other' simplifies the data and helps the model generalize better.\n",
    "\n",
    "df5.location = df5.location.apply(lambda x: 'other' if x in location_stats_less_than_10 else x)\n",
    "\n",
    "# Step 2: Count how many unique locations are left after replacing\n",
    "# 🧠 This shows us how many distinct locations we have now after grouping rare ones\n",
    "len(df5.location.unique())\n"
   ]
  },
  {
   "cell_type": "code",
   "execution_count": 52,
   "id": "922890ad-3174-4ee9-88c4-c0f8b85fbc6e",
   "metadata": {},
   "outputs": [
    {
     "data": {
      "text/html": [
       "<div>\n",
       "<style scoped>\n",
       "    .dataframe tbody tr th:only-of-type {\n",
       "        vertical-align: middle;\n",
       "    }\n",
       "\n",
       "    .dataframe tbody tr th {\n",
       "        vertical-align: top;\n",
       "    }\n",
       "\n",
       "    .dataframe thead th {\n",
       "        text-align: right;\n",
       "    }\n",
       "</style>\n",
       "<table border=\"1\" class=\"dataframe\">\n",
       "  <thead>\n",
       "    <tr style=\"text-align: right;\">\n",
       "      <th></th>\n",
       "      <th>location</th>\n",
       "      <th>size</th>\n",
       "      <th>total_sqft</th>\n",
       "      <th>bath</th>\n",
       "      <th>price</th>\n",
       "      <th>bhk</th>\n",
       "      <th>price_per_sqft</th>\n",
       "    </tr>\n",
       "  </thead>\n",
       "  <tbody>\n",
       "    <tr>\n",
       "      <th>0</th>\n",
       "      <td>Electronic City Phase II</td>\n",
       "      <td>2 BHK</td>\n",
       "      <td>1056.0</td>\n",
       "      <td>2.0</td>\n",
       "      <td>39.07</td>\n",
       "      <td>2</td>\n",
       "      <td>3699.810606</td>\n",
       "    </tr>\n",
       "    <tr>\n",
       "      <th>1</th>\n",
       "      <td>Chikka Tirupathi</td>\n",
       "      <td>4 Bedroom</td>\n",
       "      <td>2600.0</td>\n",
       "      <td>5.0</td>\n",
       "      <td>120.00</td>\n",
       "      <td>4</td>\n",
       "      <td>4615.384615</td>\n",
       "    </tr>\n",
       "    <tr>\n",
       "      <th>2</th>\n",
       "      <td>Uttarahalli</td>\n",
       "      <td>3 BHK</td>\n",
       "      <td>1440.0</td>\n",
       "      <td>2.0</td>\n",
       "      <td>62.00</td>\n",
       "      <td>3</td>\n",
       "      <td>4305.555556</td>\n",
       "    </tr>\n",
       "    <tr>\n",
       "      <th>3</th>\n",
       "      <td>Lingadheeranahalli</td>\n",
       "      <td>3 BHK</td>\n",
       "      <td>1521.0</td>\n",
       "      <td>3.0</td>\n",
       "      <td>95.00</td>\n",
       "      <td>3</td>\n",
       "      <td>6245.890861</td>\n",
       "    </tr>\n",
       "    <tr>\n",
       "      <th>4</th>\n",
       "      <td>Kothanur</td>\n",
       "      <td>2 BHK</td>\n",
       "      <td>1200.0</td>\n",
       "      <td>2.0</td>\n",
       "      <td>51.00</td>\n",
       "      <td>2</td>\n",
       "      <td>4250.000000</td>\n",
       "    </tr>\n",
       "    <tr>\n",
       "      <th>5</th>\n",
       "      <td>Whitefield</td>\n",
       "      <td>2 BHK</td>\n",
       "      <td>1170.0</td>\n",
       "      <td>2.0</td>\n",
       "      <td>38.00</td>\n",
       "      <td>2</td>\n",
       "      <td>3247.863248</td>\n",
       "    </tr>\n",
       "    <tr>\n",
       "      <th>6</th>\n",
       "      <td>Old Airport Road</td>\n",
       "      <td>4 BHK</td>\n",
       "      <td>2732.0</td>\n",
       "      <td>4.0</td>\n",
       "      <td>204.00</td>\n",
       "      <td>4</td>\n",
       "      <td>7467.057101</td>\n",
       "    </tr>\n",
       "    <tr>\n",
       "      <th>7</th>\n",
       "      <td>Rajaji Nagar</td>\n",
       "      <td>4 BHK</td>\n",
       "      <td>3300.0</td>\n",
       "      <td>4.0</td>\n",
       "      <td>600.00</td>\n",
       "      <td>4</td>\n",
       "      <td>18181.818182</td>\n",
       "    </tr>\n",
       "    <tr>\n",
       "      <th>8</th>\n",
       "      <td>Marathahalli</td>\n",
       "      <td>3 BHK</td>\n",
       "      <td>1310.0</td>\n",
       "      <td>3.0</td>\n",
       "      <td>63.25</td>\n",
       "      <td>3</td>\n",
       "      <td>4828.244275</td>\n",
       "    </tr>\n",
       "    <tr>\n",
       "      <th>9</th>\n",
       "      <td>other</td>\n",
       "      <td>6 Bedroom</td>\n",
       "      <td>1020.0</td>\n",
       "      <td>6.0</td>\n",
       "      <td>370.00</td>\n",
       "      <td>6</td>\n",
       "      <td>36274.509804</td>\n",
       "    </tr>\n",
       "  </tbody>\n",
       "</table>\n",
       "</div>"
      ],
      "text/plain": [
       "                   location       size  total_sqft  bath   price  bhk  \\\n",
       "0  Electronic City Phase II      2 BHK      1056.0   2.0   39.07    2   \n",
       "1          Chikka Tirupathi  4 Bedroom      2600.0   5.0  120.00    4   \n",
       "2               Uttarahalli      3 BHK      1440.0   2.0   62.00    3   \n",
       "3        Lingadheeranahalli      3 BHK      1521.0   3.0   95.00    3   \n",
       "4                  Kothanur      2 BHK      1200.0   2.0   51.00    2   \n",
       "5                Whitefield      2 BHK      1170.0   2.0   38.00    2   \n",
       "6          Old Airport Road      4 BHK      2732.0   4.0  204.00    4   \n",
       "7              Rajaji Nagar      4 BHK      3300.0   4.0  600.00    4   \n",
       "8              Marathahalli      3 BHK      1310.0   3.0   63.25    3   \n",
       "9                     other  6 Bedroom      1020.0   6.0  370.00    6   \n",
       "\n",
       "   price_per_sqft  \n",
       "0     3699.810606  \n",
       "1     4615.384615  \n",
       "2     4305.555556  \n",
       "3     6245.890861  \n",
       "4     4250.000000  \n",
       "5     3247.863248  \n",
       "6     7467.057101  \n",
       "7    18181.818182  \n",
       "8     4828.244275  \n",
       "9    36274.509804  "
      ]
     },
     "execution_count": 52,
     "metadata": {},
     "output_type": "execute_result"
    }
   ],
   "source": [
    "df5.head(10)"
   ]
  }
 ],
 "metadata": {
  "kernelspec": {
   "display_name": "Python 3 (ipykernel)",
   "language": "python",
   "name": "python3"
  },
  "language_info": {
   "codemirror_mode": {
    "name": "ipython",
    "version": 3
   },
   "file_extension": ".py",
   "mimetype": "text/x-python",
   "name": "python",
   "nbconvert_exporter": "python",
   "pygments_lexer": "ipython3",
   "version": "3.12.2"
  }
 },
 "nbformat": 4,
 "nbformat_minor": 5
}
